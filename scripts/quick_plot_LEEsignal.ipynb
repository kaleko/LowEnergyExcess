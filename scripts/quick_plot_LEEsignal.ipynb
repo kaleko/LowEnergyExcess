{
 "cells": [
  {
   "cell_type": "code",
   "execution_count": 1,
   "metadata": {
    "collapsed": false
   },
   "outputs": [],
   "source": [
    "%matplotlib inline\n",
    "from ROOT import TFile, TTree\n",
    "import numpy as np\n",
    "import matplotlib.pylab as plt\n",
    "import pandas as pd\n",
    "from root_numpy import root2array"
   ]
  },
  {
   "cell_type": "code",
   "execution_count": 45,
   "metadata": {
    "collapsed": false,
    "scrolled": false
   },
   "outputs": [],
   "source": [
    "filebase = '/Users/davidkaleko/larlite/UserDev/LowEnergyExcess/scripts/'\n",
    "#This is the file that comes out of singleE_LEE_selection.py\n",
    "filename = 'singleE_LEE_selection_mc.root'\n",
    "\n",
    "treename = 'LEETree'\n",
    "binning = np.linspace(0,3000,30)\n",
    "\n",
    "plot_variable = '_e_dep' #_e_dep #_e_nuReco\n",
    "#17 cm from all sides\n",
    "fidvolcut = '_x_vtx > 17. and _x_vtx < 239. and _y_vtx < 99. and _y_vtx > -99. and _z_vtx > 17. and _z_vtx < 1019.'"
   ]
  },
  {
   "cell_type": "code",
   "execution_count": 46,
   "metadata": {
    "collapsed": false
   },
   "outputs": [],
   "source": [
    "df = pd.DataFrame( root2array( filebase + filename, treename ) )"
   ]
  },
  {
   "cell_type": "code",
   "execution_count": 59,
   "metadata": {
    "collapsed": false
   },
   "outputs": [
    {
     "name": "stdout",
     "output_type": "stream",
     "text": [
      "<class 'pandas.core.frame.DataFrame'>\n",
      "Int64Index: 5735 entries, 0 to 5734\n",
      "Data columns (total 21 columns):\n",
      "_numEvts            5735 non-null int32\n",
      "_is_fiducial        5735 non-null bool\n",
      "_e_nuReco           5735 non-null float64\n",
      "_e_dep              5735 non-null float64\n",
      "_weight             5735 non-null float64\n",
      "_parentPDG          5735 non-null int32\n",
      "_mcPDG              5735 non-null int32\n",
      "_mcGeneration       5735 non-null int32\n",
      "_longestTrackLen    5735 non-null float64\n",
      "_x_vtx              5735 non-null float64\n",
      "_y_vtx              5735 non-null float64\n",
      "_z_vtx              5735 non-null float64\n",
      "_e_theta            5735 non-null float64\n",
      "_e_phi              5735 non-null float64\n",
      "_nu_theta           5735 non-null float64\n",
      "_nu_pt              5735 non-null float64\n",
      "_nu_p               5735 non-null float64\n",
      "_n_children         5735 non-null int32\n",
      "_is_simple          5735 non-null bool\n",
      "_dedx               5735 non-null float64\n",
      "_flash_time         5735 non-null float64\n",
      "dtypes: bool(2), float64(14), int32(5)\n",
      "memory usage: 795.3 KB\n",
      "None\n"
     ]
    }
   ],
   "source": [
    "print df.info()"
   ]
  },
  {
   "cell_type": "code",
   "execution_count": 53,
   "metadata": {
    "collapsed": false
   },
   "outputs": [
    {
     "name": "stdout",
     "output_type": "stream",
     "text": [
      "(4446,)\n",
      "(4446,)\n"
     ]
    }
   ],
   "source": [
    "fuck   = np.array(df.query(fidvolcut)[plot_variable])\n",
    "mylife = np.array(df.query(fidvolcut)['_weight'])"
   ]
  },
  {
   "cell_type": "code",
   "execution_count": 56,
   "metadata": {
    "collapsed": false
   },
   "outputs": [
    {
     "data": {
      "image/png": "[encoded data removed]",
      "text/plain": [
       "<matplotlib.figure.Figure at 0x118c6e650>"
      ]
     },
     "metadata": {},
     "output_type": "display_data"
    }
   ],
   "source": [
    "plt.figure(figsize=(10,6))\n",
    "hist, bins, idkwhatthisis = plt.hist(fuck,bins=binning,weights=mylife)\n",
    "plt.title(\"Does this match Figure 8 in the technote?\",fontsize=20)\n",
    "plt.xlabel('True Lepton Energy (smeared))')\n",
    "plt.grid(True)"
   ]
  },
  {
   "cell_type": "code",
   "execution_count": 62,
   "metadata": {
    "collapsed": false
   },
   "outputs": [
    {
     "name": "stdout",
     "output_type": "stream",
     "text": [
      "Integral of the above histogram = 134.54, including 1.17 underflow and 0.00 overflow.\n"
     ]
    }
   ],
   "source": [
    "print \"Integral of the above histogram = %0.2f, including %0.2f underflow and %0.2f overflow.\"%(np.sum(hist),hist[0],hist[-1])"
   ]
  },
  {
   "cell_type": "code",
   "execution_count": null,
   "metadata": {
    "collapsed": true
   },
   "outputs": [],
   "source": []
  }
 ],
 "metadata": {
  "kernelspec": {
   "display_name": "Python 2",
   "language": "python",
   "name": "python2"
  },
  "language_info": {
   "codemirror_mode": {
    "name": "ipython",
    "version": 2
   },
   "file_extension": ".py",
   "mimetype": "text/x-python",
   "name": "python",
   "nbconvert_exporter": "python",
   "pygments_lexer": "ipython2",
   "version": "2.7.5"
  }
 },
 "nbformat": 4,
 "nbformat_minor": 0
}
