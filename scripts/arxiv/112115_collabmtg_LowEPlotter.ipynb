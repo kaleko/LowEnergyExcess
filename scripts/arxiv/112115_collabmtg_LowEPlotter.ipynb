{
 "cells": [
  {
   "cell_type": "code",
   "execution_count": null,
   "metadata": {
    "collapsed": true
   },
   "outputs": [],
   "source": [
    "%matplotlib inline\n",
    "from ROOT import TFile, TTree\n",
    "import numpy as np\n",
    "import matplotlib.pylab as plt\n",
    "import pandas as pd\n",
    "from root_numpy import root2array\n",
    "from collections import OrderedDict"
   ]
  },
  {
   "cell_type": "code",
   "execution_count": null,
   "metadata": {
    "collapsed": false,
    "scrolled": false
   },
   "outputs": [],
   "source": [
    "filebase = '/Users/davidkaleko/larlite/UserDev/LowEnergyExcess/output/'\n",
    "filebase += '70KV/112115_collabmtg/default_config/perfect_reco/'\n",
    "#filebase = '/Users/davidkaleko/larlite/UserDev/LArLiteApp/LowEPlots/mac/output/70KV/'\n",
    "filenames = OrderedDict([('nue','singleE_nue_selection_mc.root'),\n",
    "                         ('numu','singleE_numu_selection_mc.root'),\n",
    "                         ('nc','singleE_nc_selection_mc.root'),\n",
    "                         ('cosmic','singleE_cosmic_selection_mc.root') ])#,\n",
    "#                        ('lee','singleE_LEE_selection_mc.root')\n",
    "#                        ])\n",
    "treenames = { 'nue' : 'beamNuE',\n",
    "             'cosmic' : 'cosmicShowers',\n",
    "             'numu' : 'beamNuMu',\n",
    "             'nc' : 'beamNC',\n",
    "            'lee' : 'LEETree'}\n",
    "labels = { 'nue' : 'Beam Intrinsic Nue',\n",
    "         'cosmic' : 'Cosmic, in-time',\n",
    "         'numu' : 'Beam Intrinsic Numu',\n",
    "         'nc' : 'Beam Intrinsic NC', \n",
    "         'lee' : 'Scaled Low Energy Excess'}\n",
    "colors = { 'nue' : '#269729', #kGreen-2\n",
    "         'numu' : '#4B4EAC', #kBlue-5\n",
    "          'nc' : '#6B70F5', #kBlue-9\n",
    "          'cosmic' : '#D12C2C', #kRed-3\n",
    "          'lee' : '#E65C00' #orangish\n",
    "          }\n",
    "binning = np.linspace(0.1,3,39)\n",
    "#binning = np.linspace(0.1,3,15)\n",
    "scaling_weights = { 'nue' : 6.6e20/(2.706e15*96000), #should be 99600, used 96000 for collab meeting\n",
    "             'cosmic' : 2.52, #(211,000 ms total exposure)/(6.4ms * 13100 evts generated)\n",
    "             'numu' : 6.6e20/(2.706e15*96000),\n",
    "             'nc' : 6.6e20/(2.706e15*96000),\n",
    "                  'lee' : 1}\n",
    "#10cm from all sides\n",
    "fidvolcut = '_x_vtx > 10 and _x_vtx < 246.35 and _y_vtx > -106.5 and _y_vtx < 106.5 and _z_vtx > 10 and _z_vtx < 1026.8'\n",
    "defaultcut = '_longestTrackLen < 100.'"
   ]
  },
  {
   "cell_type": "code",
   "execution_count": null,
   "metadata": {
    "collapsed": false
   },
   "outputs": [],
   "source": [
    "dfs = OrderedDict()\n",
    "for key, filename in filenames.iteritems():\n",
    "    dfs.update( { key : pd.DataFrame( root2array( filebase + filename, treenames[key] ) ) } )"
   ]
  },
  {
   "cell_type": "code",
   "execution_count": null,
   "metadata": {
    "collapsed": false
   },
   "outputs": [],
   "source": [
    "def gen_histos(myquery=''):\n",
    "    nphistos = OrderedDict()\n",
    "\n",
    "    for key, df in dfs.iteritems():\n",
    "        if key == 'lee': continue\n",
    "        mydf = df.query(myquery) if myquery else df\n",
    "        if key == 'cosmic':\n",
    "            myweights = np.ones(mydf['_e_nuReco'].shape[0])\n",
    "        else:\n",
    "            #NOTE: using ravel() seems to actually modify the dataframe itself\n",
    "            #which causes weird behavior when this function is called repeatedly\n",
    "            #so just cast the series as an array (as done below) instead.\n",
    "            #I don't understand why ravel() modifies the DF.\n",
    "            myweights = np.array(mydf['_weight'])#.ravel()\n",
    "        myweights *= scaling_weights[key]\n",
    "        nphistos.update( {key : np.histogram(mydf['_e_nuReco']/1000.,\n",
    "                                     bins=binning,\n",
    "                                     weights=myweights)} )\n",
    "    return nphistos"
   ]
  },
  {
   "cell_type": "code",
   "execution_count": null,
   "metadata": {
    "collapsed": false
   },
   "outputs": [],
   "source": [
    "def plot_fullstack(myhistos):\n",
    "    fig = plt.figure(figsize=(10,6))\n",
    "    plt.grid(True)\n",
    "    lasthist = 0\n",
    "    for key, (hist, bins) in myhistos.iteritems():\n",
    "        if key == 'lee': continue\n",
    "        plt.bar(bins[:-1],hist,\n",
    "                width=bins[1]-bins[0],\n",
    "                color=colors[key],\n",
    "                bottom = lasthist,\n",
    "                edgecolor = 'k',\n",
    "                label='%s: %d Events'%(labels[key],sum(hist)))\n",
    "        lasthist += hist\n",
    "    \n",
    "    plt.xlim([binning[0],binning[-1]])\n",
    "    plt.ylim([0,800])\n",
    "    plt.title('CCSingleE Stacked Backgrounds',fontsize=25)\n",
    "    plt.ylabel('Events',fontsize=20)\n",
    "    plt.xlabel('Reconstructed Neutrino Energy [GeV]',fontsize=20)\n",
    "    plt.legend()"
   ]
  },
  {
   "cell_type": "code",
   "execution_count": null,
   "metadata": {
    "collapsed": false
   },
   "outputs": [],
   "source": [
    "#nphistos = gen_histos('_is_fiducial==True and _longestTrackLen < 1')\n",
    "plot_fullstack(gen_histos())\n",
    "plot_fullstack(gen_histos(defaultcut))\n",
    "plot_fullstack(gen_histos(defaultcut + ' and ' + fidvolcut))\n",
    "#plot_fullstack(gen_histos())\n",
    "#plot_fullstack(gen_histos(fidvolcut))"
   ]
  },
  {
   "cell_type": "code",
   "execution_count": null,
   "metadata": {
    "collapsed": false
   },
   "outputs": [],
   "source": [
    "def plot_onehist(key,myhistos):\n",
    "    fig = plt.figure(figsize=(10,6))\n",
    "    plt.grid(True)\n",
    "    hist, bins = myhistos[key]\n",
    "    plt.bar(bins[:-1],hist,\n",
    "            width=bins[1]-bins[0],\n",
    "            color=colors[key],\n",
    "            bottom = 0,\n",
    "            edgecolor = 'k',\n",
    "            label='%s: %d Events'%(labels[key],sum(hist)))\n",
    "    \n",
    "    plt.xlim([binning[0],binning[-1]])\n",
    "    #plt.ylim([0,120])\n",
    "    plt.title('CCSingleE Background: %s'%key,fontsize=25)\n",
    "    plt.ylabel('Events',fontsize=20)\n",
    "    plt.xlabel('Reconstructed Neutrino Energy [GeV]',fontsize=20)\n",
    "    plt.legend()"
   ]
  },
  {
   "cell_type": "code",
   "execution_count": null,
   "metadata": {
    "collapsed": true
   },
   "outputs": [],
   "source": []
  },
  {
   "cell_type": "code",
   "execution_count": null,
   "metadata": {
    "collapsed": false
   },
   "outputs": [],
   "source": [
    "plot_onehist('nc',gen_histos(defaultcut))"
   ]
  },
  {
   "cell_type": "code",
   "execution_count": null,
   "metadata": {
    "collapsed": false
   },
   "outputs": [],
   "source": [
    "myhistos = gen_histos(fidvolcut+' and _longestTrackLen < 100')\n",
    "plot_fullstack(myhistos)\n",
    "print compute_significance(myhistos)"
   ]
  },
  {
   "cell_type": "code",
   "execution_count": null,
   "metadata": {
    "collapsed": true
   },
   "outputs": [],
   "source": []
  },
  {
   "cell_type": "code",
   "execution_count": null,
   "metadata": {
    "collapsed": false
   },
   "outputs": [],
   "source": [
    "def compute_significance(myhistos):\n",
    "    numerator, denominator = 0., 0.\n",
    "    for key, (hist, bins) in myhistos.iteritems():\n",
    "        if key == 'nue': numerator += sum(hist)\n",
    "        denominator += sum(hist)\n",
    "    return numerator/np.sqrt(denominator)"
   ]
  },
  {
   "cell_type": "code",
   "execution_count": null,
   "metadata": {
    "collapsed": false
   },
   "outputs": [],
   "source": [
    "plot_onehist('numu',gen_histos(fidvolcut))\n",
    "x, y = [], []\n",
    "for longestlen in xrange(1,500,25):\n",
    "    x.append(longestlen)\n",
    "    y.append(compute_significance(gen_histos(fidvolcut + ' and _longestTrackLen < %f'%longestlen)))\n",
    "plt.figure(figsize=(10,6))\n",
    "plt.grid(True)\n",
    "plt.plot(x,y,'ro--')\n",
    "plt.xlabel('Track Length Cut Value [cm]',fontsize=15)\n",
    "plt.ylabel('Signifiance (#nue/sqrt(#nue+#others))',fontsize=15)"
   ]
  },
  {
   "cell_type": "code",
   "execution_count": null,
   "metadata": {
    "collapsed": false
   },
   "outputs": [],
   "source": [
    "#myhistos = gen_histos('_is_fiducial==True and _longestTrackLen < 100')\n",
    "myhistos = gen_histos(fidvolcut + ' and _longestTrackLen < 100')\n",
    "plot_onehist('cosmic',myhistos)"
   ]
  },
  {
   "cell_type": "code",
   "execution_count": null,
   "metadata": {
    "collapsed": false
   },
   "outputs": [],
   "source": [
    "#dfs['cosmic'].hist('_x_vtx',bins=np.linspace(-10,266,250))\n",
    "#dfs['cosmic'].hist('_x_vtx',bins=np.linspace(-10,266,250))\n",
    "dfs['cosmic'].hist('_x_vtx',bins=np.linspace(-0.1,0.1,100))\n",
    "print len(dfs['cosmic'])"
   ]
  },
  {
   "cell_type": "code",
   "execution_count": null,
   "metadata": {
    "collapsed": false
   },
   "outputs": [],
   "source": [
    "#Optimize y-fiducial volume cut\n",
    "x, y = [], []\n",
    "for cut_dist in xrange(0,50,1):\n",
    "    fidvolcut = '_x_vtx > 0 and _x_vtx < 256.35 and _y_vtx > -116.5 and _y_vtx < 116.5 and _z_vtx > (0+%s) and _z_vtx < (1036.8-%s)'%(str(cut_dist),str(cut_dist))\n",
    "    x.append(cut_dist)\n",
    "    y.append(compute_significance(gen_histos(fidvolcut)))\n",
    "plt.figure(figsize=(10,6))\n",
    "plt.grid(True)\n",
    "plt.plot(x,y,'ro--')\n",
    "plt.xlabel('Fiducial Volume Cut Distance In Z-Direction [cm]',fontsize=15)\n",
    "plt.ylabel('Significance (#nue/sqrt(#nue+#others))',fontsize=15)"
   ]
  },
  {
   "cell_type": "code",
   "execution_count": null,
   "metadata": {
    "collapsed": true
   },
   "outputs": [],
   "source": []
  }
 ],
 "metadata": {
  "kernelspec": {
   "display_name": "Python 2",
   "language": "python",
   "name": "python2"
  },
  "language_info": {
   "codemirror_mode": {
    "name": "ipython",
    "version": 2
   },
   "file_extension": ".py",
   "mimetype": "text/x-python",
   "name": "python",
   "nbconvert_exporter": "python",
   "pygments_lexer": "ipython2",
   "version": "2.7.5"
  }
 },
 "nbformat": 4,
 "nbformat_minor": 0
}
