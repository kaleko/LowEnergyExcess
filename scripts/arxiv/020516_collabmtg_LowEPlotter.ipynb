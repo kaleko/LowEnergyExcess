{
 "cells": [
  {
   "cell_type": "code",
   "execution_count": null,
   "metadata": {
    "collapsed": false
   },
   "outputs": [],
   "source": [
    "%matplotlib inline\n",
    "from ROOT import TFile, TTree\n",
    "import numpy as np\n",
    "import matplotlib.pylab as plt\n",
    "import pandas as pd\n",
    "from root_numpy import root2array\n",
    "from collections import OrderedDict\n",
    "from likelihood_fitter import computeHypothesis"
   ]
  },
  {
   "cell_type": "code",
   "execution_count": null,
   "metadata": {
    "collapsed": false,
    "scrolled": false
   },
   "outputs": [],
   "source": [
    "filebase = '/Users/davidkaleko/larlite/UserDev/LowEnergyExcess/output/'\n",
    "filebase += '70KV/perfect_reco/collabmtg_feb2016_nopid/'\n",
    "\n",
    "filenames = OrderedDict([('nue','singleE_nue_selection_mc.root'),\n",
    "                         ('numu','singleE_numu_selection_mc.root'),\n",
    "                         ('nc','singleE_nc_selection_mc.root'),\n",
    "                         ('cosmic','singleE_cosmic_selection_mc.root'),# ])\n",
    "                         ('lee','singleE_LEE_selection_mc.root')\n",
    "                         ])\n",
    "treenames = { 'nue' : 'beamNuE',\n",
    "             'cosmic' : 'cosmicShowers',\n",
    "             'numu' : 'beamNuMu',\n",
    "             'nc' : 'beamNC',\n",
    "            'lee' : 'LEETree'}\n",
    "labels = { 'nue' : 'Beam Intrinsic Nue',\n",
    "         'cosmic' : 'CRY Cosmic (Scaled to BGW Exposure Time)',#'CRY Cosmic, in-time',\n",
    "         'numu' : 'Beam Intrinsic Numu',\n",
    "         'nc' : 'Beam Intrinsic NC', \n",
    "         'lee' : 'Scaled Low Energy Excess',\n",
    "        'nuefrommu' : 'Nues from Muons',\n",
    "          'nuefromK0' : 'Nues from K0s',\n",
    "          'nuefromKCharged' : 'Nues from Charged Kaons'#,\n",
    "#          'nuefrompion' : 'Nues from Pions'\n",
    "          }\n",
    "colors = { 'nue' : '#269729', #kGreen-2\n",
    "         'numu' : '#4B4EAC', #kBlue-5\n",
    "          'nc' : '#6B70F5', #kBlue-9\n",
    "          'cosmic' : '#D12C2C', #kRed-3\n",
    "          'lee' : '#E65C00', #orangish\n",
    "          'nuefrommu' : '#3F7252',\n",
    "          'nuefromK0' : '#58A173',\n",
    "          'nuefromKCharged' : '#76DF9D'#,\n",
    "  #        'nuefrompion' : '#C6FFDB'\n",
    "          }\n",
    "\n",
    "#binning = np.linspace(0.05,3,15)\n",
    "binning = np.linspace(0.1,3,15)\n",
    "#binning = np.linspace(0,1,50)\n",
    "#binning = np.linspace(0.1,3,15)\n",
    "#binning = np.linspace(-1,1,39)\n",
    "scaling_weights = { 'nue' : 6.6e20/(2.706e15*99600), #should be 99600, used 96000 for collab meeting\n",
    "                    'nuefrommu' : 6.6e20/(2.706e15*99600),\n",
    "                    'nuefromK0' : 6.6e20/(2.706e15*99600),\n",
    "                    'nuefromKCharged' : 6.6e20/(2.706e15*99600),\n",
    "                   # 'nuefrompion' : 6.6e20/(2.706e15*99600),\n",
    "                    'cosmic' : 2.52, #(211,000 ms total exposure)/(6.4ms * 13100 evts generated)\n",
    "                    'numu' : 6.6e20/(2.706e15*99600),\n",
    "                    'nc' : 6.6e20/(2.706e15*99600),\n",
    "                    'lee' : 1}\n",
    "#5cm from all sides\n",
    "#fidvolcut = '_x_vtx > 5 and _x_vtx < 251.35 and '\n",
    "#WARNING WHEN YOU USE XSHIFT YOU CANNOT USE _x_vtx AS FIDUCIAL VOLUME CUT!\n",
    "fidvolcut = '_y_vtx > -111.5 and _y_vtx < 111.5 and _z_vtx > 5 and _z_vtx < 1031.8'\n",
    "#10cm from all sides\n",
    "#fidvolcut = '_x_vtx > 10 and _x_vtx < 246.35 and _y_vtx > -106.5 and _y_vtx < \n",
    "#106.5 and _z_vtx > 10. and _z_vtx < 1026.8'\n",
    "tracklencut = '_longestTrackLen < 100.'\n",
    "defaultcut = '_e_Edep > 50.'\n",
    "BGWcut = '_flash_time > 0. and _flash_time < 0.2'\n",
    "hypothcut = 'hypothesis > 0.69' #optimized\n",
    "plot_variable = '_e_nuReco'#'ptoverp'\n"
   ]
  },
  {
   "cell_type": "code",
   "execution_count": null,
   "metadata": {
    "collapsed": false
   },
   "outputs": [],
   "source": [
    "group_nues = True\n",
    "dfs = OrderedDict()\n",
    "for key, filename in filenames.iteritems():\n",
    "    if group_nues:\n",
    "         dfs.update( { key : pd.DataFrame( root2array( filebase + filename, treenames[key] ) ) } )\n",
    "    else:\n",
    "        if key != 'nue':\n",
    "            dfs.update( { key : pd.DataFrame( root2array( filebase + filename, treenames[key] ) ) } )\n",
    "        else:\n",
    "            dfs.update( { 'nuefrommu' : pd.DataFrame(root2array( filebase + filename, treenames[key] ) ).query('_ptype==1 or _ptype==2') } )\n",
    "            dfs.update( { 'nuefromK0' : pd.DataFrame(root2array( filebase + filename, treenames[key] ) ).query('_ptype==3') } )\n",
    "            dfs.update( { 'nuefromKCharged' : pd.DataFrame(root2array( filebase + filename, treenames[key] ) ).query('_ptype==4') } )\n",
    "            #dfs.update( { 'nuefrompion' : pd.DataFrame(root2array( filebase + filename, treenames[key] ) ).query('_ptype==2') } )\n",
    "            #Keep the grouped nue anyway, used for likelihood\n",
    "            dfs.update( { 'nue' : pd.DataFrame(root2array( filebase + filename, treenames[key] ) ) } )"
   ]
  },
  {
   "cell_type": "code",
   "execution_count": null,
   "metadata": {
    "collapsed": false
   },
   "outputs": [],
   "source": [
    "#Compute the likelihood column:\n",
    "fitparams = computeHypothesis(dfs)\n",
    "#For future crosschecks, my fit params currently are:\n",
    "#[-0.40574592 -2.4498874  -1.77060787]\n",
    "print fitparams"
   ]
  },
  {
   "cell_type": "code",
   "execution_count": null,
   "metadata": {
    "collapsed": false
   },
   "outputs": [],
   "source": [
    "def gen_histos(myquery='',plotvar = '_e_nuReco',scalefactor = 1.):\n",
    "    nphistos = OrderedDict()\n",
    "\n",
    "    for key, df in dfs.iteritems():\n",
    "        mydf = df.query(myquery) if myquery else df\n",
    "        if key == 'cosmic':\n",
    "            myweights = np.ones(mydf[plot_variable].shape[0])\n",
    "        else:\n",
    "            myweights = np.array(mydf['_weight'])\n",
    "        \n",
    "        myweights *= scaling_weights[key]\n",
    "\n",
    "        nphistos.update( {key : np.histogram(mydf[plotvar]/scalefactor,\n",
    "                                         bins=binning,\n",
    "                                         weights=myweights)} )\n",
    "    return nphistos"
   ]
  },
  {
   "cell_type": "code",
   "execution_count": null,
   "metadata": {
    "collapsed": false
   },
   "outputs": [],
   "source": [
    "def plot_fullstack(myhistos,plotvar = '_e_nuReco'):\n",
    "    fig = plt.figure(figsize=(10,6))\n",
    "    plt.grid(True)\n",
    "    lasthist = 0\n",
    "    for key, (hist, bins) in myhistos.iteritems():\n",
    "        if not group_nues and key == 'nue': continue\n",
    "        plt.bar(bins[:-1],hist,\n",
    "                width=bins[1]-bins[0],\n",
    "                color=colors[key],\n",
    "                bottom = lasthist,\n",
    "                edgecolor = 'k',\n",
    "                label='%s: %d Events'%(labels[key],sum(hist)))\n",
    "        lasthist += hist\n",
    "\n",
    "    #plt.ylim([0,180])\n",
    "    plt.title('CCSingleE Stacked Backgrounds',fontsize=25)\n",
    "    plt.ylabel('Events',fontsize=20)\n",
    "    if plotvar == '_e_nuReco' or plotvar == '_e_nuReco_better':\n",
    "        xstring = 'Reconstructed Neutrino Energy [GeV]' \n",
    "    elif plotvar == '_e_CCQE':\n",
    "        xstring = 'CCQE Energy [GeV]'\n",
    "    else:\n",
    "        xstring = plotvar\n",
    "    plt.xlabel(xstring,fontsize=20)\n",
    "    plt.xticks(list(plt.xticks()[0]) + [binning[0]])\n",
    "    plt.xlim([binning[0],binning[-1]])\n",
    "    plt.legend()"
   ]
  },
  {
   "cell_type": "code",
   "execution_count": null,
   "metadata": {
    "collapsed": true
   },
   "outputs": [],
   "source": [
    "def computeSigma(histos,POT = 6.6,ignoreCosmics=False):\n",
    "    \n",
    "    POTscalefactor = POT/6.6\n",
    "    #it is just, Δχ2 = (number of events signal in Energy bins in a 1D matrix) \n",
    "    #(2D Martix - (statistical uncertainty)^2 in a the diagonal of the matrix)^-1 \n",
    "    #(number of events signal in Energy bins in a 1D matrix)^Transpose\n",
    "    signal = 'lee'\n",
    "    \n",
    "    backgr = ['nue','numu', 'nc']\n",
    "    if not group_nues:\n",
    "        backgr = [ 'nuefrommu', 'nuefromK0', 'nuefromKCharged', 'numu', 'nc' ]\n",
    "        \n",
    "    if not ignoreCosmics: backgr.append('cosmic')\n",
    "    print \"backgrs = \",backgr\n",
    "    nbins = len(histos['lee'][1])-1\n",
    "\n",
    "    bkvec  = np.zeros((1,nbins))\n",
    "    emtx   = np.zeros((nbins,nbins))\n",
    "\n",
    "    sigvec = np.array(np.array(histos[signal][0])).reshape((1,nbins))\n",
    "    sigvec = sigvec * POTscalefactor\n",
    "    \n",
    "    for x in backgr:\n",
    "        bkvec = bkvec + np.array(histos[x][0])\n",
    "    bkvec.reshape((1,nbins))\n",
    "    bkvec = bkvec * POTscalefactor\n",
    "\n",
    "    for x in xrange(nbins):\n",
    "        emtx[x][x] = bkvec[0][x]\n",
    "\n",
    "    emtxinv = np.linalg.inv(emtx)\n",
    "\n",
    "    chisq = float(sigvec.dot(emtxinv).dot(sigvec.T))\n",
    "    #print \"Sqrt of that (==sigma?) is \",np.sqrt(chisq)\n",
    "    return np.sqrt(chisq)"
   ]
  },
  {
   "cell_type": "code",
   "execution_count": null,
   "metadata": {
    "collapsed": false
   },
   "outputs": [],
   "source": [
    "def plotFlashtimes():\n",
    "    \n",
    "    mykeys = ['cosmic', 'nue']\n",
    "    if not group_nues:\n",
    "        mykeys = ['cosmic', 'nuefrommu']\n",
    "    tmplbl = {'cosmic':'Cosmics', 'nuefrommu':'Nues from Muons', 'nue':'Nues'}\n",
    "    fig = plt.figure(figsize=(10,6))\n",
    "    plt.grid(True)\n",
    "    mybins = np.linspace(-1200,3500,100)\n",
    "    plt.yscale('log')\n",
    "    for key in mykeys:\n",
    "        plt.hist(dfs[key]['_flash_time'],\n",
    "                 bins=mybins,\n",
    "                 color=colors[key],\n",
    "                label=tmplbl[key])\n",
    "    plt.legend()\n",
    "    plt.title('Reconstructed Nue Matched Flash Time w.r.t. Trigger',fontsize=16)\n",
    "    plt.xlabel('Time of Nue Matched Flash w.r.t. Trigger [us]',fontsize=14)\n",
    "    plt.ylabel('Counts (Not normalized in any way!)',fontsize=14)"
   ]
  },
  {
   "cell_type": "code",
   "execution_count": null,
   "metadata": {
    "collapsed": false
   },
   "outputs": [],
   "source": [
    "plotFlashtimes()"
   ]
  },
  {
   "cell_type": "code",
   "execution_count": null,
   "metadata": {
    "collapsed": false,
    "scrolled": false
   },
   "outputs": [],
   "source": [
    "binning = np.linspace(0.1,3,25)\n",
    "query = defaultcut+' and '+fidvolcut\n",
    "print query\n",
    "hists = gen_histos(myquery=query,plotvar='_e_nuReco_better',scalefactor=1000.)\n",
    "hists.pop('lee',None)\n",
    "plot_fullstack(hists,plotvar='_e_nuReco_better')"
   ]
  },
  {
   "cell_type": "code",
   "execution_count": null,
   "metadata": {
    "collapsed": false
   },
   "outputs": [],
   "source": [
    "binning = np.linspace(0.1,3,25)\n",
    "#query = defaultcut+' and '+fidvolcut\n",
    "query = defaultcut+' and _y_vtx < 111.5 and _y_vtx > -111.5 and _z_vtx > 5. and _z_vtx < 1031.8'\n",
    "#query += ' and _has_muon_child == 0'\n",
    "#query += ' and _n_nues_in_evt == 1'\n",
    "#query += ' and _maybe_pi0_MID == 0'\n",
    "hists = gen_histos(myquery=query,plotvar='_e_nuReco_better',scalefactor=1000.)\n",
    "plot_fullstack(hists,plotvar='_e_nuReco_better')\n",
    "sigma = computeSigma(hists,POT = 6.6,ignoreCosmics=False)\n",
    "blah = plt.text(1.25,plt.gca().get_ylim()[1]*0.55,'Sigma (Stat only): %0.2f'%sigma,fontsize=24)"
   ]
  },
  {
   "cell_type": "code",
   "execution_count": null,
   "metadata": {
    "collapsed": false,
    "scrolled": false
   },
   "outputs": [],
   "source": [
    "binning = np.linspace(0.1,3,25)\n",
    "print fidvolcut\n",
    "query = defaultcut+' and _y_vtx < 111.5 and _y_vtx > -111.5 and _z_vtx > 5. and _z_vtx < 1031.8'\n",
    "query += ' and hypothesis > 0.05'\n",
    "hists = gen_histos(myquery=query,plotvar='_e_nuReco_better',scalefactor=1000.)\n",
    "plot_fullstack(hists,plotvar='_e_nuReco_better')\n",
    "sigma = computeSigma(hists,POT = 6.6,ignoreCosmics=False)\n",
    "blah = plt.text(1.5,plt.gca().get_ylim()[1]*0.42,'Sigma (Stat only): %0.2f'%sigma,fontsize=24)"
   ]
  },
  {
   "cell_type": "code",
   "execution_count": null,
   "metadata": {
    "collapsed": false
   },
   "outputs": [],
   "source": [
    "binning = np.linspace(0.1,3,25)\n",
    "query = defaultcut+' and _y_vtx < 111.5 and _y_vtx > -111.5 and _z_vtx > 5. and _z_vtx < 1031.8'\n",
    "hists = gen_histos(myquery=query,plotvar='_e_nuReco_better',scalefactor=1000.)\n",
    "hists.pop('cosmic',None)\n",
    "plot_fullstack(hists,plotvar='_e_nuReco_better')\n",
    "sigma = computeSigma(hists,POT = 6.6,ignoreCosmics=True)\n",
    "blah = plt.text(1.25,plt.gca().get_ylim()[1]*0.55,'Sigma (Stat only): %0.2f'%sigma,fontsize=24)"
   ]
  },
  {
   "cell_type": "code",
   "execution_count": null,
   "metadata": {
    "collapsed": false
   },
   "outputs": [],
   "source": [
    "binning = np.linspace(0.1,3,25)\n",
    "query = defaultcut+' and _y_vtx < 111.5 and _y_vtx > -111.5 and _z_vtx > 5. and _z_vtx < 1031.8'\n",
    "hists = gen_histos(myquery=query,plotvar='_e_CCQE',scalefactor=1000.)\n",
    "plot_fullstack(hists,plotvar='_e_CCQE')\n",
    "sigma = computeSigma(hists,POT = 6.6,ignoreCosmics=False)\n",
    "blah = plt.text(1.25,plt.gca().get_ylim()[1]*0.55,'Sigma (Stat only): %0.2f'%sigma,fontsize=24)"
   ]
  },
  {
   "cell_type": "code",
   "execution_count": null,
   "metadata": {
    "collapsed": false
   },
   "outputs": [],
   "source": [
    "binning = np.linspace(0.1,3,25)\n",
    "query = defaultcut+' and _y_vtx < 111.5 and _y_vtx > -111.5 and _z_vtx > 5. and _z_vtx < 1031.8'\n",
    "query += ' and hypothesis > 0.05'\n",
    "hists = gen_histos(myquery=query,plotvar='_e_CCQE',scalefactor=1000.)\n",
    "plot_fullstack(hists,plotvar='_e_CCQE')\n",
    "sigma = computeSigma(hists,POT = 6.6,ignoreCosmics=False)\n",
    "blah = plt.text(1.25,plt.gca().get_ylim()[1]*0.45,'Sigma (Stat only): %0.2f'%sigma,fontsize=24)"
   ]
  },
  {
   "cell_type": "code",
   "execution_count": null,
   "metadata": {
    "collapsed": false
   },
   "outputs": [],
   "source": [
    "POTvals = np.linspace(0.1,6.6,10)\n",
    "binning = np.linspace(0.1,3,25)\n",
    "query = defaultcut+' and _y_vtx < 111.5 and _y_vtx > -111.5 and _z_vtx > 5. and _z_vtx < 1031.8'\n",
    "query += ' and hypothesis > 0.05'\n",
    "myhists = gen_histos(myquery=query,plotvar='_e_nuReco_better',scalefactor=1000.)\n",
    "sigvals = [ computeSigma(myhists,POT=myPOT) for myPOT in POTvals ]\n",
    "print \"Significance at 6.6 is \",sigvals[-1]\n",
    "plt.figure(figsize=(10,6))\n",
    "plt.plot(POTvals,sigvals,'ro--')\n",
    "plt.grid(True)\n",
    "plt.xlabel(\"POT Delivered [e20]\",fontsize=16)\n",
    "plt.ylabel(\"Sqrt(deltaChiSquare) [sigma]\",fontsize=16)\n",
    "#plt.ylim((0,5))\n",
    "blah= plt.title(\"Sigma vs. POT: LEE Analysis\",fontsize=20)"
   ]
  },
  {
   "cell_type": "code",
   "execution_count": null,
   "metadata": {
    "collapsed": true
   },
   "outputs": [],
   "source": []
  },
  {
   "cell_type": "code",
   "execution_count": null,
   "metadata": {
    "collapsed": false
   },
   "outputs": [],
   "source": [
    "from scipy import stats\n",
    "\n",
    "\n",
    "myhists = gen_histos(myquery='', plotvar='_e_nuReco',scalefactor=1000.)\n",
    "\n",
    "\n",
    "signal = 'lee'\n",
    "backgr = [ 'numu', 'nue' ]#, 'nc' ]\n",
    "nbins = len(myhists['nue'][1])-1\n",
    "sigvec = np.array(np.array(myhists['lee'][0]))\n",
    "bkvec  = np.zeros(nbins)\n",
    "POTscalefactor = 1.\n",
    "sigvec = sigvec * POTscalefactor\n",
    "    \n",
    "\n",
    "for x in backgr:\n",
    "    bkvec = bkvec + np.array(myhists[x][0])\n",
    "sigvec = sigvec + bkvec\n",
    "    \n",
    "print np.sqrt(stats.chisquare(sigvec,f_exp=bkvec))"
   ]
  }
 ],
 "metadata": {
  "kernelspec": {
   "display_name": "Python 2",
   "language": "python",
   "name": "python2"
  },
  "language_info": {
   "codemirror_mode": {
    "name": "ipython",
    "version": 2
   },
   "file_extension": ".py",
   "mimetype": "text/x-python",
   "name": "python",
   "nbconvert_exporter": "python",
   "pygments_lexer": "ipython2",
   "version": "2.7.5"
  }
 },
 "nbformat": 4,
 "nbformat_minor": 0
}
